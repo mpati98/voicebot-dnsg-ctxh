{
 "cells": [
  {
   "cell_type": "code",
   "execution_count": 14,
   "metadata": {},
   "outputs": [],
   "source": [
    "import sqlite3\n",
    "import pandas as pd\n",
    "import numpy as np\n",
    "from IPython.display import display"
   ]
  },
  {
   "cell_type": "code",
   "execution_count": 16,
   "metadata": {},
   "outputs": [
    {
     "name": "stdout",
     "output_type": "stream",
     "text": [
      "0    Duang\n",
      "1    TranA\n",
      "Name: username, dtype: object\n"
     ]
    }
   ],
   "source": [
    "con = sqlite3.connect(\"apps/db.sqlite3\")\n",
    "\n",
    "df = pd.read_sql_query(\"SELECT * from Users\", con)\n",
    "df = df.drop(['email', 'password', 'oauth_github'], axis=1)\n",
    "user = df.username\n",
    "print(user)"
   ]
  },
  {
   "cell_type": "code",
   "execution_count": 17,
   "metadata": {},
   "outputs": [
    {
     "data": {
      "text/html": [
       "<div>\n",
       "<style scoped>\n",
       "    .dataframe tbody tr th:only-of-type {\n",
       "        vertical-align: middle;\n",
       "    }\n",
       "\n",
       "    .dataframe tbody tr th {\n",
       "        vertical-align: top;\n",
       "    }\n",
       "\n",
       "    .dataframe thead th {\n",
       "        text-align: right;\n",
       "    }\n",
       "</style>\n",
       "<table border=\"1\" class=\"dataframe\">\n",
       "  <thead>\n",
       "    <tr style=\"text-align: right;\">\n",
       "      <th></th>\n",
       "      <th>id</th>\n",
       "      <th>username</th>\n",
       "      <th>chatReq</th>\n",
       "      <th>chatResp</th>\n",
       "      <th>createAt</th>\n",
       "    </tr>\n",
       "  </thead>\n",
       "  <tbody>\n",
       "    <tr>\n",
       "      <th>0</th>\n",
       "      <td>1</td>\n",
       "      <td>Duang</td>\n",
       "      <td>Xin chào,Xin chào,Tôi khỏe cảm ơn</td>\n",
       "      <td>chao hôm nay bạn thê nao ?Tôi vừa trở về sau ...</td>\n",
       "      <td>2022-11-16 10:33:51.830557</td>\n",
       "    </tr>\n",
       "    <tr>\n",
       "      <th>1</th>\n",
       "      <td>2</td>\n",
       "      <td>TranA</td>\n",
       "      <td>Xin chào,Bạn có khỏe không</td>\n",
       "      <td>bạn có sở thích nào không ?Gần đây tôi đã suy ...</td>\n",
       "      <td>2022-11-16 10:40:34.193194</td>\n",
       "    </tr>\n",
       "  </tbody>\n",
       "</table>\n",
       "</div>"
      ],
      "text/plain": [
       "   id username                            chatReq  \\\n",
       "0   1    Duang  Xin chào,Xin chào,Tôi khỏe cảm ơn   \n",
       "1   2    TranA         Xin chào,Bạn có khỏe không   \n",
       "\n",
       "                                            chatResp  \\\n",
       "0  chao hôm nay bạn thê nao ?Tôi vừa trở về sau ...   \n",
       "1  bạn có sở thích nào không ?Gần đây tôi đã suy ...   \n",
       "\n",
       "                     createAt  \n",
       "0  2022-11-16 10:33:51.830557  \n",
       "1  2022-11-16 10:40:34.193194  "
      ]
     },
     "metadata": {},
     "output_type": "display_data"
    }
   ],
   "source": [
    "display(df.head())"
   ]
  },
  {
   "cell_type": "code",
   "execution_count": 10,
   "metadata": {},
   "outputs": [
    {
     "name": "stdout",
     "output_type": "stream",
     "text": [
      "['id', 'username', 'email', 'password', 'chatReq', 'chatResp', 'createAt', 'oauth_github']\n"
     ]
    }
   ],
   "source": [
    "columns = list(df.columns)\n",
    "print(columns)"
   ]
  },
  {
   "cell_type": "code",
   "execution_count": 8,
   "metadata": {},
   "outputs": [
    {
     "name": "stdout",
     "output_type": "stream",
     "text": [
      "['Duang' 'TranA']\n"
     ]
    }
   ],
   "source": [
    "user = np.array(user)\n",
    "type(user)\n",
    "print(user)"
   ]
  },
  {
   "cell_type": "code",
   "execution_count": 23,
   "metadata": {},
   "outputs": [],
   "source": [
    "all_values = df.values"
   ]
  },
  {
   "cell_type": "code",
   "execution_count": 40,
   "metadata": {},
   "outputs": [
    {
     "name": "stdout",
     "output_type": "stream",
     "text": [
      "Xin chào,Xin chào,Tôi khỏe cảm ơn\n",
      "Xin chào,Bạn có khỏe không\n"
     ]
    }
   ],
   "source": [
    "for i in range(df.shape[0]):\n",
    "    print(all_values[i][2])"
   ]
  },
  {
   "cell_type": "code",
   "execution_count": 42,
   "metadata": {},
   "outputs": [],
   "source": [
    "row = df.values[0]"
   ]
  },
  {
   "cell_type": "code",
   "execution_count": 47,
   "metadata": {},
   "outputs": [
    {
     "data": {
      "text/plain": [
       "5"
      ]
     },
     "execution_count": 47,
     "metadata": {},
     "output_type": "execute_result"
    }
   ],
   "source": [
    "len(row)"
   ]
  },
  {
   "cell_type": "code",
   "execution_count": 45,
   "metadata": {},
   "outputs": [],
   "source": [
    "chat = row[2].split(',')"
   ]
  },
  {
   "cell_type": "code",
   "execution_count": 48,
   "metadata": {},
   "outputs": [
    {
     "data": {
      "text/plain": [
       "3"
      ]
     },
     "execution_count": 48,
     "metadata": {},
     "output_type": "execute_result"
    }
   ],
   "source": [
    "len(chat)"
   ]
  },
  {
   "cell_type": "code",
   "execution_count": 41,
   "metadata": {},
   "outputs": [
    {
     "data": {
      "text/plain": [
       "5"
      ]
     },
     "execution_count": 41,
     "metadata": {},
     "output_type": "execute_result"
    }
   ],
   "source": [
    "df.shape[1]"
   ]
  },
  {
   "cell_type": "code",
   "execution_count": null,
   "metadata": {},
   "outputs": [],
   "source": [
    "# Be sure to close the connection\n",
    "con.close()"
   ]
  },
  {
   "cell_type": "code",
   "execution_count": 1,
   "metadata": {},
   "outputs": [
    {
     "name": "stdout",
     "output_type": "stream",
     "text": [
      "{\"async\":\"https://file01.fpt.ai/text2speech-v5/short/2023-01-18/61b4bf15fac5b75165a36d072cdfed58.mp3\",\"error\":0,\"message\":\"The content will be returned after a few seconds under the async link.\",\"request_id\":\"56666bd4-3bcc-4478-8133-f955976d219c\"}\n"
     ]
    }
   ],
   "source": [
    "import requests\n",
    "\n",
    "url = 'https://api.fpt.ai/hmi/tts/v5'\n",
    "\n",
    "payload = 'xin chào'\n",
    "headers = {\n",
    "    'api-key': 'OaGgkRmCMzOoZbnwgX70IDWo77t0g5SW',\n",
    "    'speed': '',\n",
    "    'voice': 'banmai'\n",
    "}\n",
    "\n",
    "response = requests.request('POST', url, data=payload.encode('utf-8'), headers=headers)\n",
    "print(response.text)\n"
   ]
  },
  {
   "cell_type": "code",
   "execution_count": 10,
   "metadata": {},
   "outputs": [
    {
     "name": "stdout",
     "output_type": "stream",
     "text": [
      "Defaulting to user installation because normal site-packages is not writeable\n",
      "Collecting playsound\n",
      "  Using cached playsound-1.3.0-py3-none-any.whl\n",
      "Installing collected packages: playsound\n",
      "Successfully installed playsound-1.3.0\n",
      "Note: you may need to restart the kernel to use updated packages.\n"
     ]
    }
   ],
   "source": [
    "%pip install playsound"
   ]
  },
  {
   "cell_type": "code",
   "execution_count": 2,
   "metadata": {},
   "outputs": [
    {
     "name": "stdout",
     "output_type": "stream",
     "text": [
      "Defaulting to user installation because normal site-packages is not writeable\n",
      "Collecting wget\n",
      "  Downloading wget-3.2.zip (10 kB)\n",
      "  Preparing metadata (setup.py) ... \u001b[?25ldone\n",
      "\u001b[?25hBuilding wheels for collected packages: wget\n",
      "  Building wheel for wget (setup.py) ... \u001b[?25ldone\n",
      "\u001b[?25h  Created wheel for wget: filename=wget-3.2-py3-none-any.whl size=9675 sha256=dbec2ea31f8070e2facedb7d8e5c9341b9398e25611bf51501ec0012e810ad2d\n",
      "  Stored in directory: /home/arti/.cache/pip/wheels/8b/f1/7f/5c94f0a7a505ca1c81cd1d9208ae2064675d97582078e6c769\n",
      "Successfully built wget\n",
      "Installing collected packages: wget\n",
      "Successfully installed wget-3.2\n",
      "Note: you may need to restart the kernel to use updated packages.\n"
     ]
    }
   ],
   "source": [
    "%pip install wget"
   ]
  },
  {
   "cell_type": "code",
   "execution_count": 4,
   "metadata": {},
   "outputs": [],
   "source": [
    "short_direct = 'starttq'\n",
    "direc = f'{short_direct}/'"
   ]
  },
  {
   "cell_type": "code",
   "execution_count": 55,
   "metadata": {},
   "outputs": [
    {
     "name": "stdout",
     "output_type": "stream",
     "text": [
      "1\n",
      "\n",
      " https://file01.fpt.ai/text2speech-v5/short/2023-01-18/436d85be546533cc7ac71f7cf78505cb.mp3\n",
      "downloading file 1/1  starttq/000.mp3\n",
      "\n",
      "COMPLETE\n"
     ]
    }
   ],
   "source": [
    "from textwrap import wrap\n",
    "\n",
    "import time\n",
    "import wget\n",
    "import random   \n",
    "\n",
    "content = \"Xin chào\"\n",
    "\n",
    "wraptexts = wrap(content, 480)\n",
    "print(len(wraptexts))\n",
    "for i in range(len(wraptexts)):\n",
    "    while True:\n",
    "        try:\n",
    "            text = wraptexts[i]\n",
    "            # api_key = random.choice(keys)\n",
    "            # print('\\n', api_key)\n",
    "            url = 'https://api.fpt.ai/hmi/tts/v5'\n",
    "            # url = \"http://api.openfpt.vn/text2speech/v4?api_key={}&amp;voice={}&amp;speed={}&amp;prosody={}\".format(api_key, voice, speed, prosody)\n",
    "            headers = {\n",
    "                'api-key': 'OaGgkRmCMzOoZbnwgX70IDWo77t0g5SW',\n",
    "                'speed': '',\n",
    "                'voice': 'banmai'\n",
    "            }\n",
    "\n",
    "            response = requests.request('POST', url, data=text.encode('utf-8'), headers=headers)\n",
    "            # response = requests.post(url, data=text.encode('utf-8'), headers={'voice':voice, 'speed':speed, 'prosody':prosody})\n",
    "            response = response.json()\n",
    "            print('\\n', response['async'])\n",
    "            file = response['async']\n",
    "            print(\"downloading file {}/{} \".format(i+1, len(wraptexts)), \"{}{:03}.mp3\".format(direc, i))\n",
    "        except:\n",
    "            time.sleep(1)\n",
    "            continue\n",
    "        break\n",
    "    while True:\n",
    "        try:\n",
    "            wget.download(file)\n",
    "        except:\n",
    "            time.sleep(0.1)\n",
    "            print('Co loi. Thu lai', end='')\n",
    "            continue\n",
    "        break\n",
    "\n",
    "print('\\nCOMPLETE')"
   ]
  },
  {
   "cell_type": "code",
   "execution_count": 59,
   "metadata": {},
   "outputs": [],
   "source": [
    "def ttp_fptAI(msg):\n",
    "    while True:\n",
    "        try:\n",
    "            url = 'https://api.fpt.ai/hmi/tts/v5'\n",
    "            headers = {\n",
    "                'api-key': 'OaGgkRmCMzOoZbnwgX70IDWo77t0g5SW',\n",
    "                'speed': '',\n",
    "                'voice': 'banmai'\n",
    "            }\n",
    "\n",
    "            response = requests.request('POST', url, data=msg.encode('utf-8'), headers=headers)\n",
    "            response = response.json()\n",
    "            file = response['async']\n",
    "        except:\n",
    "            time.sleep(1)\n",
    "            continue\n",
    "        break\n",
    "    while True:\n",
    "        try:\n",
    "            wget.download(file)\n",
    "        except:\n",
    "            time.sleep(0.1)\n",
    "            # print('Co loi. Thu lai', end='')\n",
    "            continue\n",
    "        break\n",
    "    # print(resp)\n",
    "    file_name = file.split('/')[-1]\n",
    "    playsound(file_name)"
   ]
  },
  {
   "cell_type": "code",
   "execution_count": 60,
   "metadata": {},
   "outputs": [],
   "source": [
    "ttp_fptAI(\"Xin chào, bạn có khỏe không?\")"
   ]
  }
 ],
 "metadata": {
  "kernelspec": {
   "display_name": "Python 3.10.6 64-bit",
   "language": "python",
   "name": "python3"
  },
  "language_info": {
   "codemirror_mode": {
    "name": "ipython",
    "version": 3
   },
   "file_extension": ".py",
   "mimetype": "text/x-python",
   "name": "python",
   "nbconvert_exporter": "python",
   "pygments_lexer": "ipython3",
   "version": "3.10.6"
  },
  "orig_nbformat": 4,
  "vscode": {
   "interpreter": {
    "hash": "916dbcbb3f70747c44a77c7bcd40155683ae19c65e1c03b4aa3499c5328201f1"
   }
  }
 },
 "nbformat": 4,
 "nbformat_minor": 2
}
